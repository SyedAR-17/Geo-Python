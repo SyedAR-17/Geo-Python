{
  "cells": [
    {
      "cell_type": "markdown",
      "metadata": {
        "deletable": false,
        "editable": false,
        "tags": [],
        "id": "FdP0TuMzAf7G"
      },
      "source": [
        "## Problem 2: Calculate and visualise the *dominance areas* of shopping centres (10 points)\n",
        "\n",
        "In this problem, the aim is to delineate the dominance area of each shopping centre. For this\n",
        "exercise, we define the ‘dominance area’ of a shopping centre as the area from which it can\n",
        "be reached faster than other shopping centres. We will use public transport travel times.\n",
        "\n",
        "![](https://github.com/Automating-GIS-processes-II-2023/Exercise-4/blob/main/images/dominance_areas_example_1000x500px.png?raw=1)\n",
        "\n",
        "*Sample result: a map showing the areas of dominance of each shopping centre, and the travel\n",
        "times to the closest shopping centre in the entire metropolitan area*\n"
      ]
    },
    {
      "cell_type": "markdown",
      "metadata": {
        "deletable": false,
        "editable": false,
        "id": "6DmqnWgbAf7K"
      },
      "source": [
        "\n",
        "---\n",
        "\n",
        "### Data\n",
        "\n",
        "The **input data** is identical to what you have used for *problem 1*,\n",
        "see [there](./Exercise-4-problem-1.ipynb) for detailed data descriptions.\n",
        "\n",
        "---\n",
        "\n",
        "\n",
        "### An overview of the tasks\n",
        "\n",
        "This task comprises of three major subtasks. In contrast to earlier exercises, we\n",
        "do not provide a detailed, step-by-step ‘cooking recipe’. Rather, you are free to\n",
        "implement the necessary steps in any order you see fit, and choose any variable\n",
        "names of your liking.\n",
        "\n",
        "To test intermediate results, implement `assert` statements, output the `head()`\n",
        "of a data frame, or plot the data. Remember to add comments to all of your code,\n",
        "so future you (and us) can understand what each section does.\n",
        "\n",
        "The **only strict requirement** is the **file name** of\n",
        "the **output** map plot: `DATA_DIRECTORY / \"dominance_areas.png\"`.\n",
        "\n",
        "1. Load the YKR grid and the individual travel time data sets, and combine them\n",
        "   into one geo data frame. This is essentially the same as *problem 1*, except\n",
        "   that you must load all eight shopping centre data files. (2 points)\n",
        "2. Find the closest shopping centre to each grid cell. In the combined data set,\n",
        "   find the minimum travel time to any of the shopping centres, save the value in\n",
        "   a new column, and shopping centre name in another new column. (4 points)\n",
        "   See the [hints](https://autogis-site.readthedocs.io/en/latest/lessons/lesson-4/exercise-4.html#hints)\n",
        "   to this exercise for a suggestions on how to achieve this\n",
        "   ([`pandas.DataFrame.min()`](https://pandas.pydata.org/pandas-docs/stable/reference/api/pandas.DataFrame.min.html) and\n",
        "   [`pandas.DataFrame.idxmin()`](https://pandas.pydata.org/pandas-docs/stable/reference/api/pandas.DataFrame.idxmin.html)\n",
        "   will be helpful)\n",
        "3. Visualise the dominance areas and travel times. Use 2⨉1 subplots to plot\n",
        "   the most dominant (closest) shopping centre for each grid cell, and the\n",
        "   travel time to the closest shopping centre for each grid cell. (4 points)\n",
        "\n",
        "---\n"
      ]
    },
    {
      "cell_type": "code",
      "execution_count": null,
      "metadata": {
        "deletable": false,
        "editable": false,
        "id": "Jg8b7_ZWAf7L"
      },
      "outputs": [],
      "source": [
        "import pathlib\n",
        "NOTEBOOK_PATH = pathlib.Path().resolve()\n",
        "DATA_DIRECTORY = NOTEBOOK_PATH / \"data\""
      ]
    },
    {
      "cell_type": "code",
      "execution_count": 4,
      "metadata": {
        "tags": [],
        "id": "zUk0B9MyAf7M"
      },
      "outputs": [],
      "source": [
        "# ADD YOUR OWN CODE HERE\n",
        "import geopandas\n",
        "import pandas\n",
        "\n",
        "grid = geopandas.read_file(\"/content/YKR_grid_EPSG3067.gpkg\", sep=';')\n",
        "jumbo = pandas.read_csv(\"/content/travel_times_to_5878070_Jumbo.txt\", sep=';')\n",
        "dixi = pandas.read_csv(\"/content/travel_times_to_5878087_Dixi.txt\", sep=';')\n",
        "myyrmanni = pandas.read_csv(\"/content/travel_times_to_5902043_Myyrmanni.txt\", sep=';')\n",
        "itis = pandas.read_csv(\"/content/travel_times_to_5944003_Itis.txt\", sep=';')\n",
        "forum = pandas.read_csv(\"/content/travel_times_to_5975373_Forum.txt\", sep=';')\n",
        "iso = pandas.read_csv(\"/content/travel_times_to_5978593_Iso_Omena.txt\", sep=';')\n",
        "ruo = pandas.read_csv(\"/content/travel_times_to_5980260_Ruoholahti.txt\", sep=';')"
      ]
    },
    {
      "cell_type": "code",
      "execution_count": null,
      "metadata": {
        "tags": [],
        "id": "elR1O6HIAf7N"
      },
      "outputs": [],
      "source": [
        "# ADD YOUR OWN CODE HERE\n"
      ]
    },
    {
      "cell_type": "code",
      "execution_count": null,
      "metadata": {
        "tags": [],
        "id": "OxD5Z-WCAf7N"
      },
      "outputs": [],
      "source": [
        "# ADD YOUR OWN CODE HERE\n"
      ]
    },
    {
      "cell_type": "code",
      "execution_count": null,
      "metadata": {
        "tags": [],
        "id": "vNfChMkMAf7O"
      },
      "outputs": [],
      "source": [
        "# ADD YOUR OWN CODE HERE\n"
      ]
    },
    {
      "cell_type": "code",
      "execution_count": null,
      "metadata": {
        "deletable": false,
        "editable": false,
        "tags": [],
        "id": "OXg-g5zxAf7O"
      },
      "outputs": [],
      "source": [
        "# NON-EDITABLE TEST CELL\n",
        "# Check that output figure file exists\n",
        "assert (DATA_DIRECTORY / \"dominance_areas.png\").exists()"
      ]
    },
    {
      "cell_type": "markdown",
      "metadata": {
        "deletable": false,
        "editable": false,
        "id": "GeDh-RC0Af7O"
      },
      "source": [
        "\n",
        "---\n",
        "\n",
        "**Do not forget to plot the result map, and save it to `DATA_DIRECTORY / \"dominance_areas.png\"`!**\n",
        "\n",
        "---\n",
        "\n",
        "## Reflections\n",
        "\n",
        "This was a significantly more complex exercise that previous ones, and it included finding\n",
        "a solution yourself.\n",
        "\n",
        "- What was most difficult part?\n",
        "- Where did you get stuck?\n",
        "- What was the easiest, and\n",
        "- what was the most fun part of this exercise?\n",
        "\n",
        "Add your answer below"
      ]
    },
    {
      "cell_type": "markdown",
      "metadata": {
        "deletable": false,
        "editable": false,
        "id": "DhRKz25nAf7P"
      },
      "source": [
        "\n",
        "---\n",
        "\n",
        "## Well done!\n",
        "\n",
        "Congratulations, you completed exercise 4. Good Job!"
      ]
    }
  ],
  "metadata": {
    "anaconda-cloud": {},
    "kernelspec": {
      "display_name": "Python 3 (ipykernel)",
      "language": "python",
      "name": "python3"
    },
    "language_info": {
      "codemirror_mode": {
        "name": "ipython",
        "version": 3
      },
      "file_extension": ".py",
      "mimetype": "text/x-python",
      "name": "python",
      "nbconvert_exporter": "python",
      "pygments_lexer": "ipython3",
      "version": "3.10.8"
    },
    "colab": {
      "provenance": []
    }
  },
  "nbformat": 4,
  "nbformat_minor": 0
}