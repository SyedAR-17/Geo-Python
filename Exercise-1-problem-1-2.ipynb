{
  "cells": [
    {
      "cell_type": "markdown",
      "metadata": {
        "tags": [],
        "deletable": false,
        "editable": false,
        "id": "s9IWlUtjkHWO"
      },
      "source": [
        "## Problem 1: Creating basic geometries (*5 points*)\n",
        "\n",
        "In this problem, you will create custom functions that create geometry objects.\n",
        "We start with a very simple function, and proceed to creating functions that can handle invalid input values.    "
      ]
    },
    {
      "cell_type": "markdown",
      "metadata": {
        "jp-MarkdownHeadingCollapsed": true,
        "tags": [],
        "deletable": false,
        "editable": false,
        "id": "DM_7REaekHWS"
      },
      "source": [
        "\n",
        "----\n",
        "\n",
        "#### (1a)\n",
        "\n",
        "Create a function called **`create_point_geometry()`** that accepts two parameters, `x_coord` and `y_coord`.\n",
        "The function should return a `shapely.geometry.Point` geometry object."
      ]
    },
    {
      "cell_type": "code",
      "execution_count": 62,
      "metadata": {
        "tags": [],
        "id": "UI80c6kMkHWT"
      },
      "outputs": [],
      "source": [
        "# ADD YOUR OWN CODE HERE\n",
        "from shapely.geometry import Point\n",
        "def create_point_geometry(x_coord, y_coord):\n",
        "  \"\"\"\n",
        "  Create a point geometry object.\n",
        "\n",
        "  Args:\n",
        "    x_coord (float): The x-coordinate of the point.\n",
        "    y_coord (float): The y-coordinate of the point.\n",
        "\n",
        "  Returns:\n",
        "    shapely.geometry.Point: A point geometry object.\n",
        "\n",
        "  \"\"\"\n",
        "  return Point(x_coord, y_coord)\n"
      ]
    },
    {
      "cell_type": "markdown",
      "metadata": {
        "deletable": false,
        "editable": false,
        "id": "bG5ikFKEkHWU"
      },
      "source": [
        "Test your function by running the following code cell:"
      ]
    },
    {
      "cell_type": "code",
      "execution_count": 2,
      "metadata": {
        "deletable": false,
        "editable": false,
        "colab": {
          "base_uri": "https://localhost:8080/"
        },
        "id": "ZqhHHaNnkHWU",
        "outputId": "b4b5f92d-66ed-4711-d129-b207cadea614"
      },
      "outputs": [
        {
          "output_type": "stream",
          "name": "stdout",
          "text": [
            "POINT (0 1.1)\n",
            "Point\n"
          ]
        }
      ],
      "source": [
        "# NON-EDITABLE CODE CELL FOR TESTING YOUR SOLUTION\n",
        "point1 = create_point_geometry(0.0, 1.1)\n",
        "print(point1)\n",
        "print(point1.geom_type)"
      ]
    },
    {
      "cell_type": "markdown",
      "metadata": {
        "jp-MarkdownHeadingCollapsed": true,
        "tags": [],
        "deletable": false,
        "editable": false,
        "id": "Ad6i7ZvFkHWV"
      },
      "source": [
        "\n",
        "----\n",
        "\n",
        "#### (1b)\n",
        "\n",
        "Create a function called **`create_line_geometry()`** that takes a list of `shapely.geometry.Point`s as\n",
        "an argument, and returns a `shapely.geometry.LineString` object of those input points.\n",
        "\n",
        "In addition, you should validate the function input using `assert` statements (see\n",
        "[lesson 6 of the Geo-Python course](https://geo-python-site.readthedocs.io/en/latest/notebooks/L6/gcp-5-assertions.html)\n",
        "and the [hints for this exercise](https://autogis-site.readthedocs.io/en/latest/lessons/L1/exercise-1.html#hints)):\n",
        "\n",
        "  - Inside the function, first check that the input is a **list**. If something else than a list is\n",
        "    passed, raise the following error: \"Input should be a list\".\n",
        "  - Use `assert` to check that the input list contains **at least** two values. Otherwise, raise the error: \"At\n",
        "    minimum two points are required for a LineString\"\n",
        "  - *(optional)* Use `assert` to check that all values in the input list are `shapely.geometry.Point`s.\n",
        "    Otherwise, raise the error: \"All list values must be of type shapely.geometry.Point\"\n",
        "  "
      ]
    },
    {
      "cell_type": "code",
      "execution_count": 63,
      "metadata": {
        "tags": [],
        "id": "kHpWta3GkHWV"
      },
      "outputs": [],
      "source": [
        "# ADD YOUR OWN CODE HERE\n",
        "from shapely.geometry import LineString\n",
        "def create_line_geometry(coordinates):\n",
        "  \"\"\"\n",
        "  Create a line geometry object.\n",
        "\n",
        "  Args:\n",
        "    coordinates (list): A list of shapely.geometry.Point objects.\n",
        "\n",
        "  Returns:\n",
        "    shapely.geometry.LineString: A line geometry object.\n",
        "\n",
        "  \"\"\"\n",
        "\n",
        "\n",
        "  assert type(coordinates) == list, \"Input should be a list\"\n",
        "  assert len(coordinates) >= 2, \"At minimum two points are required for a LineString\"\n",
        "  for coordinate in coordinates:\n",
        "    assert type(coordinate) == Point, \"All list values must be of type shapely.geometry.Point\"\n",
        "  return LineString(coordinates)"
      ]
    },
    {
      "cell_type": "markdown",
      "metadata": {
        "deletable": false,
        "editable": false,
        "id": "iuUSa2MzkHWW"
      },
      "source": [
        "Demonstrate how to use your function:\n",
        "Create a line object with two points, `Point(45.2, 22.34)` and `Point(100.22, -3.20)`, and store the result in a variable called `line1`."
      ]
    },
    {
      "cell_type": "code",
      "execution_count": 25,
      "metadata": {
        "colab": {
          "base_uri": "https://localhost:8080/"
        },
        "id": "1hmsHdXMkHWW",
        "outputId": "4c640b18-015f-4d18-b43a-34b685a7c995"
      },
      "outputs": [
        {
          "output_type": "stream",
          "name": "stdout",
          "text": [
            "<class 'shapely.geometry.point.Point'>\n"
          ]
        }
      ],
      "source": [
        "# ADD YOUR OWN CODE HERE\n",
        "coordinates = [Point(45.2, 22.34), Point(100.22, -3.20)]\n",
        "line1 = create_line_geometry(coordinates)\n",
        "print(type(coordinates[0]))"
      ]
    },
    {
      "cell_type": "markdown",
      "metadata": {
        "deletable": false,
        "editable": false,
        "id": "Lhjt2TQDkHWX"
      },
      "source": [
        "Run this code cell to check your solution:"
      ]
    },
    {
      "cell_type": "code",
      "execution_count": 10,
      "metadata": {
        "deletable": false,
        "editable": false,
        "colab": {
          "base_uri": "https://localhost:8080/"
        },
        "id": "9EAm-HjrkHWX",
        "outputId": "fa6ef421-a66d-4056-b927-153a50a98d19"
      },
      "outputs": [
        {
          "output_type": "stream",
          "name": "stdout",
          "text": [
            "LINESTRING (45.2 22.34, 100.22 -3.2)\n",
            "LineString\n"
          ]
        }
      ],
      "source": [
        "# NON-EDITABLE CODE CELL FOR TESTING YOUR SOLUTION\n",
        "print(line1)\n",
        "print(line1.geom_type)"
      ]
    },
    {
      "cell_type": "markdown",
      "metadata": {
        "deletable": false,
        "editable": false,
        "id": "uQg8rLbgkHWX"
      },
      "source": [
        "Check if your function checks the input correctly by running this code cell:"
      ]
    },
    {
      "cell_type": "code",
      "execution_count": 11,
      "metadata": {
        "deletable": false,
        "editable": false,
        "colab": {
          "base_uri": "https://localhost:8080/"
        },
        "id": "7jCBWK_2kHWX",
        "outputId": "14ae3e0f-9eae-4fa5-9dc3-eb20ca63164f"
      },
      "outputs": [
        {
          "output_type": "stream",
          "name": "stdout",
          "text": [
            "The function (correctly) detected an error. The error message was ‘Input should be a list’\n"
          ]
        }
      ],
      "source": [
        "# NON-EDITABLE CODE CELL FOR TESTING YOUR SOLUTION\n",
        "try:\n",
        "    # Pass something else than a list\n",
        "    create_line_geometry(\"Give me a line!\")\n",
        "except AssertionError as exception:\n",
        "    print(f\"The function (correctly) detected an error. The error message was ‘{exception.args[0]}’\")\n",
        "except Exception as exception:\n",
        "    raise exception"
      ]
    },
    {
      "cell_type": "markdown",
      "metadata": {
        "jp-MarkdownHeadingCollapsed": true,
        "tags": [],
        "deletable": false,
        "editable": false,
        "id": "90g5jujIkHWY"
      },
      "source": [
        "\n",
        "----\n",
        "\n",
        "#### (1c)\n",
        "\n",
        "Create a function **`create_polygon_geometry()`** that accepts one parameter `coordinates`. `coordinates` should be *a list of\n",
        "coordinate tuples*. The function should create and return a `shapely.geometry.Polygon` object based on these coordinates.  \n",
        "\n",
        "Again, use `assert` statements to ensure the input arguments are valid:\n",
        "\n",
        "  - first check that the input is a **list**. If something else than a list is\n",
        "    passed, raise the following error: \"Input should be a list\".\n",
        "  - Check that the input list contains **at least three values**. Otherwise, raise the error: \"At\n",
        "    minimum three points are required for a polygon\"\n",
        "  - Check that all values in the input list are tuples of two values.\n",
        "    Otherwise, raise the error: \"All list values must be coordinate tuples\"\n",
        "  - *(optional)* check that all tuples’ values are instances of either `int` or `float`.\n",
        "\n",
        "*(Optional)* Write the function in a way that also allows the input to be a list of `shapely.geometry.Point`s.\n",
        "If `coords` contains `shapely.geometry.Point` objects, return a polygon based on these points.\n",
        "If the input is neither a list of tuples, nor a list of Points, raise an appropriate error message.\n",
        "  "
      ]
    },
    {
      "cell_type": "code",
      "execution_count": 64,
      "metadata": {
        "id": "6vP_lOyxkHWZ"
      },
      "outputs": [],
      "source": [
        "# ADD YOUR OWN CODE HERE\n",
        "from shapely.geometry import Polygon\n",
        "from shapely.geometry import Point\n",
        "def create_polygon_geometry(coordinates):\n",
        "  \"\"\"\n",
        "  Create a polygon geometry object.\n",
        "\n",
        "  Args:\n",
        "    coordinates (list): A list of coordinate tuples or a list of shapely.geometry.Point objects\n",
        "\n",
        "  Returns:\n",
        "    shapely.geometry.Polygon: A polygon geometry object.\n",
        "\n",
        "  \"\"\"\n",
        "\n",
        "  assert (type(coordinates) == list), \"Input should be a list\"\n",
        "  assert len(coordinates) >= 3, \"At minimum three points are required for a polygon\"\n",
        "  for coordinate in coordinates:\n",
        "    if(type(coordinate) != Point):\n",
        "      assert (len(coordinate) == 2), \"All list values must be coordinate tuples\"\n",
        "      assert (type(coordinate[0]) == int or type(coordinate[0]) == float), \"All list values must be coordinate tuples\"\n",
        "      assert (type(coordinate[1]) == int or type(coordinate[1]) == float) , \"All list values must be coordinate tuples\"\n",
        "  return Polygon(coordinates)\n"
      ]
    },
    {
      "cell_type": "markdown",
      "metadata": {
        "deletable": false,
        "editable": false,
        "id": "bmGgIrfZkHWZ"
      },
      "source": [
        "Demonstrate how to use the function.\n",
        "For example, create a Polygon `polygon1` with three points: `(45.2, 22.34)`, `(100.22, -3.20)`, `(70.0, 10.20)`."
      ]
    },
    {
      "cell_type": "code",
      "execution_count": 34,
      "metadata": {
        "id": "Lc0UV4x-kHWZ"
      },
      "outputs": [],
      "source": [
        "# ADD YOUR OWN CODE HERE\n",
        "coordinates1 = [(45.2, 22.34), (100.22, -3.20), (70.0, 10.20)]\n",
        "coordinates = [Point(45.2, 22.34), Point(100.22, -3.20), Point(70.0, 10.20)]\n",
        "polygon1 = create_polygon_geometry(coordinates1)"
      ]
    },
    {
      "cell_type": "markdown",
      "metadata": {
        "deletable": false,
        "editable": false,
        "id": "jaQiSRrPkHWZ"
      },
      "source": [
        "Use the following code cell to test your solution:"
      ]
    },
    {
      "cell_type": "code",
      "execution_count": 31,
      "metadata": {
        "deletable": false,
        "editable": false,
        "colab": {
          "base_uri": "https://localhost:8080/"
        },
        "id": "ssp_2e_NkHWa",
        "outputId": "6a452260-cdbb-44b0-bdee-041a57eccd0d"
      },
      "outputs": [
        {
          "output_type": "stream",
          "name": "stdout",
          "text": [
            "POLYGON ((45.2 22.34, 100.22 -3.2, 70 10.2, 45.2 22.34))\n",
            "Polygon\n"
          ]
        }
      ],
      "source": [
        "# NON-EDITABLE CODE CELL FOR TESTING YOUR SOLUTION\n",
        "print(polygon1)\n",
        "print(polygon1.geom_type)"
      ]
    },
    {
      "cell_type": "markdown",
      "metadata": {
        "deletable": false,
        "editable": false,
        "id": "aL_RZF4xkHWa"
      },
      "source": [
        "Check if your function checks the length of the input correctly by running this code cell:"
      ]
    },
    {
      "cell_type": "code",
      "execution_count": null,
      "metadata": {
        "deletable": false,
        "editable": false,
        "id": "jQO54sdLkHWa"
      },
      "outputs": [],
      "source": [
        "# NON-EDITABLE CODE CELL FOR TESTING YOUR SOLUTION\n",
        "try:\n",
        "    # Pass something else than a list\n",
        "    create_polygon_geometry(\"Give me a polygon\")\n",
        "except AssertionError as exception:\n",
        "    print(f\"The function (correctly) detected an error. The error message was ‘{exception.args[0]}’\")\n",
        "except Exception as exception:\n",
        "    raise exception"
      ]
    },
    {
      "cell_type": "markdown",
      "metadata": {
        "deletable": false,
        "editable": false,
        "id": "uuDLtwQskHWa"
      },
      "source": [
        "\n",
        "----\n",
        "\n",
        "#### Done!\n",
        "\n",
        "That’s it. Now you are ready to continue with Problem 2.\n",
        "\n",
        "Remember to commit your code using `git` after each major code change (for example, after solving each problem). Remember also to upload (push) your files to your **own** personal GitHub repository for Exercise-1.\n"
      ]
    },
    {
      "cell_type": "markdown",
      "metadata": {
        "deletable": false,
        "editable": false,
        "id": "QtgNm14UkHWa"
      },
      "source": [
        "## Problem 2: Attributes of geometries (*5 points*)\n",
        "\n",
        "In this problem, we look at the geometric properties of geometries, and how to access them."
      ]
    },
    {
      "cell_type": "markdown",
      "metadata": {
        "jp-MarkdownHeadingCollapsed": true,
        "tags": [],
        "deletable": false,
        "editable": false,
        "id": "-6YYKoRJkHWb"
      },
      "source": [
        "\n",
        "----\n",
        "\n",
        "#### (2a)\n",
        "\n",
        "Create a function called **`get_centroid()`** that accepts one parameter, `geom`.\n",
        "The function should take any kind of Shapely’s geometry objects (any instance of `shapely.geometry.base.BaseGeometry`)\n",
        "as an input, and return the centroid of that geometry.\n",
        "\n",
        "Make sure to validate the function’s input arguments using `assert` statements:\n",
        "\n",
        "  - check that the input is a `shapely.geometry.base.BaseGeometry` or one of its child classes.\n",
        "    Otherwise, raise the error \"Input must be a `shapely` geometry\".\n"
      ]
    },
    {
      "cell_type": "code",
      "execution_count": 65,
      "metadata": {
        "id": "9fS62C79kHWb"
      },
      "outputs": [],
      "source": [
        "# ADD YOUR OWN CODE HERE\n",
        "from shapely.geometry.base import BaseGeometry\n",
        "def get_centroid(geom):\n",
        "  \"\"\"\n",
        "  Get the centroid of a geometry.\n",
        "\n",
        "  Args:\n",
        "    geom (shapely.geometry.base.BaseGeometry): A geometry object.\n",
        "\n",
        "  Returns:\n",
        "    shapely.geometry.Point: The centroid of the geometry.\n",
        "\n",
        "  \"\"\"\n",
        "  assert isinstance(geom, BaseGeometry) , \"Input must be a shapely geometry\"\n",
        "  return geom.centroid\n",
        "\n"
      ]
    },
    {
      "cell_type": "markdown",
      "metadata": {
        "deletable": false,
        "editable": false,
        "id": "hxzlFbo1kHWb"
      },
      "source": [
        "Test and demonstrate the usage of the function. You can, for example, create shapely objects using the functions you created in problem 1 and print out information about their centroids:\n"
      ]
    },
    {
      "cell_type": "code",
      "execution_count": 46,
      "metadata": {
        "colab": {
          "base_uri": "https://localhost:8080/",
          "height": 121
        },
        "id": "y-6H8uFrkHWb",
        "outputId": "03e6b28a-f373-4c60-b260-df5e421178dd"
      },
      "outputs": [
        {
          "output_type": "execute_result",
          "data": {
            "text/plain": [
              "<POINT (0 1.1)>"
            ],
            "image/svg+xml": "<svg xmlns=\"http://www.w3.org/2000/svg\" xmlns:xlink=\"http://www.w3.org/1999/xlink\" width=\"100.0\" height=\"100.0\" viewBox=\"-1.0 0.10000000000000009 2.0 2.0\" preserveAspectRatio=\"xMinYMin meet\"><g transform=\"matrix(1,0,0,-1,0,2.2)\"><circle cx=\"0.0\" cy=\"1.1\" r=\"0.06\" stroke=\"#555555\" stroke-width=\"0.02\" fill=\"#66cc99\" opacity=\"0.6\" /></g></svg>"
          },
          "metadata": {},
          "execution_count": 46
        }
      ],
      "source": [
        "# ADD YOUR OWN CODE HERE\n",
        "point2 = create_point_geometry(0.0, 1.1)\n",
        "get_centroid(point2)"
      ]
    },
    {
      "cell_type": "code",
      "execution_count": 47,
      "metadata": {
        "deletable": false,
        "editable": false,
        "colab": {
          "base_uri": "https://localhost:8080/"
        },
        "id": "r5DT_VQRkHWb",
        "outputId": "e49002fa-2d12-4890-ae35-553d54b08ede"
      },
      "outputs": [
        {
          "output_type": "stream",
          "name": "stdout",
          "text": [
            "POINT (71.80666666666667 9.780000000000001)\n"
          ]
        }
      ],
      "source": [
        "# NON-EDITABLE CODE CELL FOR TESTING YOUR SOLUTION\n",
        "centroid = get_centroid(polygon1)\n",
        "print(centroid)"
      ]
    },
    {
      "cell_type": "markdown",
      "metadata": {
        "deletable": false,
        "editable": false,
        "id": "OKHBH9p-kHWb"
      },
      "source": [
        "Check that the assertion error works correctly:"
      ]
    },
    {
      "cell_type": "code",
      "execution_count": 48,
      "metadata": {
        "deletable": false,
        "editable": false,
        "colab": {
          "base_uri": "https://localhost:8080/"
        },
        "id": "pOed8_-ckHWb",
        "outputId": "e153a13e-da11-4857-bb50-b5f564479f78"
      },
      "outputs": [
        {
          "output_type": "stream",
          "name": "stdout",
          "text": [
            "The function (correctly) detected an error. The error message was ‘Input must be a shapely geometry’\n"
          ]
        }
      ],
      "source": [
        "# NON-EDITABLE CODE CELL FOR TESTING YOUR SOLUTION\n",
        "try:\n",
        "    # Pass something else than a Shapely geometry\n",
        "    get_centroid(\"Give me a centroid!\")\n",
        "except AssertionError as exception:\n",
        "    print(f\"The function (correctly) detected an error. The error message was ‘{exception.args[0]}’\")\n",
        "except Exception as exception:\n",
        "    raise exception"
      ]
    },
    {
      "cell_type": "markdown",
      "metadata": {
        "jp-MarkdownHeadingCollapsed": true,
        "tags": [],
        "deletable": false,
        "editable": false,
        "id": "p3KBEf4EkHWb"
      },
      "source": [
        "\n",
        "----\n",
        "\n",
        "#### (2b)\n",
        "\n",
        "Create a function **`get_area()`** accepting one parameter `polygon`.\n",
        "\n",
        "The function should accept a `shapely.geometry.Polygon` and return its area.\n",
        "Again, use `assert` to make sure the input values are valid, in particular, check that:\n",
        "- the input is a `shapely.geometry.Polygon`. If the argument is anything else,\n",
        "  raise an error: \"Input should be a `shapely.geometry.Polygon`\"."
      ]
    },
    {
      "cell_type": "code",
      "execution_count": 66,
      "metadata": {
        "id": "vsQQ8QShkHWb"
      },
      "outputs": [],
      "source": [
        "# ADD YOUR OWN CODE HERE\n",
        "def get_area(polygon):\n",
        "  \"\"\"\n",
        "  Get the area of a polygon.\n",
        "\n",
        "  Args:\n",
        "    polygon (shapely.geometry.Polygon): A polygon geometry object.\n",
        "\n",
        "  Returns:\n",
        "    float: The area of the polygon.\n",
        "\n",
        "  \"\"\"\n",
        "  assert isinstance(polygon, Polygon), \"Input should be a shapely.geometry.Polygon\"\n",
        "  return polygon.area\n"
      ]
    },
    {
      "cell_type": "markdown",
      "metadata": {
        "deletable": false,
        "editable": false,
        "id": "Dl5Z3JcRkHWc"
      },
      "source": [
        "Test and demonstrate how to use the function:"
      ]
    },
    {
      "cell_type": "code",
      "execution_count": 50,
      "metadata": {
        "colab": {
          "base_uri": "https://localhost:8080/"
        },
        "id": "XJtK4XnOkHWc",
        "outputId": "6562ab85-7c10-4385-cd42-e81e4b4b8735"
      },
      "outputs": [
        {
          "output_type": "stream",
          "name": "stdout",
          "text": [
            "17.275400000000047\n"
          ]
        }
      ],
      "source": [
        "# ADD YOUR OWN CODE HERE\n",
        "area=get_area(polygon1)\n",
        "print(area)"
      ]
    },
    {
      "cell_type": "code",
      "execution_count": 51,
      "metadata": {
        "deletable": false,
        "editable": false,
        "colab": {
          "base_uri": "https://localhost:8080/"
        },
        "id": "7iRyMT3ckHWc",
        "outputId": "af1d9a0f-2cfa-40a6-9e58-f27b60eeec06"
      },
      "outputs": [
        {
          "output_type": "stream",
          "name": "stdout",
          "text": [
            "17.28\n"
          ]
        }
      ],
      "source": [
        "# NON-EDITABLE CODE CELL FOR TESTING YOUR SOLUTION\n",
        "area = get_area(polygon1)\n",
        "print(round(area, 2))"
      ]
    },
    {
      "cell_type": "markdown",
      "metadata": {
        "deletable": false,
        "editable": false,
        "id": "qU3jPRlOkHWc"
      },
      "source": [
        "Check that the assertion works:"
      ]
    },
    {
      "cell_type": "code",
      "execution_count": 52,
      "metadata": {
        "deletable": false,
        "editable": false,
        "colab": {
          "base_uri": "https://localhost:8080/"
        },
        "id": "fYxDokY-kHWc",
        "outputId": "f03f7317-3d20-4b87-e114-ef830e9e71f0"
      },
      "outputs": [
        {
          "output_type": "stream",
          "name": "stdout",
          "text": [
            "The function (correctly) detected an error. The error message was ‘Input should be a shapely.geometry.Polygon’\n"
          ]
        }
      ],
      "source": [
        "# NON-EDITABLE CODE CELL FOR TESTING YOUR SOLUTION\n",
        "try:\n",
        "    # Pass something else than a Shapely geometry\n",
        "    get_area(\"Give me an area!\")\n",
        "except AssertionError as exception:\n",
        "    print(f\"The function (correctly) detected an error. The error message was ‘{exception.args[0]}’\")\n",
        "except Exception as exception:\n",
        "    raise exception"
      ]
    },
    {
      "cell_type": "markdown",
      "metadata": {
        "jp-MarkdownHeadingCollapsed": true,
        "tags": [],
        "deletable": false,
        "editable": false,
        "id": "eow5X-sgkHWd"
      },
      "source": [
        "\n",
        "----\n",
        "\n",
        "#### (2c)\n",
        "\n",
        "Create a function **`get_length()`** accepting one parameter, `geometry`.\n",
        "\n",
        "The function should accept either a `shapely.geometry.LineString` or a `shapely.geometry.Polygon` as input.\n",
        "Check the type of the input and return the length of the line if input is a LineString and length of the\n",
        "exterior ring if the input is a Polygon.\n",
        "\n",
        "If something else is passed to the function, raise an error \"‘geometry’ should be either a LineString or a Polygon\". Use `assert` or (advanced, optional) [raise a `ValueError` exception](https://docs.python.org/3/tutorial/errors.html#handling-exceptions).\n"
      ]
    },
    {
      "cell_type": "code",
      "execution_count": 67,
      "metadata": {
        "id": "A7f0wDHokHWd"
      },
      "outputs": [],
      "source": [
        "# ADD YOUR OWN CODE HERE\n",
        "def get_length(geometry):\n",
        "  \"\"\"\n",
        "  Get the length of a geometry.\n",
        "\n",
        "  Args:\n",
        "    geometry (shapely.geometry.LineString or shapely.geometry.Polygon): A geometry object.\n",
        "\n",
        "  Returns:\n",
        "    float: The length of the geometry.\n",
        "\n",
        "  \"\"\"\n",
        "  if(isinstance(geometry, LineString)):\n",
        "    return geometry.length\n",
        "  elif(isinstance(geometry, Polygon)):\n",
        "    return geometry.exterior.length\n",
        "  else:\n",
        "    assert False, \"‘geometry’ should be either a LineString or a Polygon\""
      ]
    },
    {
      "cell_type": "markdown",
      "metadata": {
        "deletable": false,
        "editable": false,
        "id": "yiCjEYdskHWh"
      },
      "source": [
        "Test and demonstrate the usage of the function:"
      ]
    },
    {
      "cell_type": "code",
      "execution_count": 59,
      "metadata": {
        "colab": {
          "base_uri": "https://localhost:8080/"
        },
        "id": "-KZ7nEA8kHWh",
        "outputId": "bf467d2e-b15e-4f8a-ad9a-7d4792c10014"
      },
      "outputs": [
        {
          "output_type": "execute_result",
          "data": {
            "text/plain": [
              "121.32841570092893"
            ]
          },
          "metadata": {},
          "execution_count": 59
        }
      ],
      "source": [
        "# ADD YOUR OWN CODE HERE\n",
        "get_length(polygon1)"
      ]
    },
    {
      "cell_type": "code",
      "execution_count": 60,
      "metadata": {
        "deletable": false,
        "editable": false,
        "colab": {
          "base_uri": "https://localhost:8080/"
        },
        "id": "-s9P0zaSkHWh",
        "outputId": "26e00939-ab9a-4f6d-fbad-46f02981e3e0"
      },
      "outputs": [
        {
          "output_type": "stream",
          "name": "stdout",
          "text": [
            "Line length: 60.66\n",
            "Polygon exterior length: 121.33\n",
            "The function (correctly) detected an error. The error message was ‘‘geometry’ should be either a LineString or a Polygon’\n"
          ]
        }
      ],
      "source": [
        "# NON-EDITABLE CODE CELL FOR TESTING YOUR SOLUTION\n",
        "line_length = get_length(line1)\n",
        "print(\"Line length:\", round(line_length,2))\n",
        "\n",
        "poly_exterior_length = get_length(polygon1)\n",
        "print(\"Polygon exterior length:\", round(poly_exterior_length,2))\n",
        "\n",
        "try:\n",
        "    # Pass something else than a Shapely LineString or Polygon\n",
        "    get_length(Point(1,2))\n",
        "except (AssertionError, ValueError) as exception:\n",
        "    print(f\"The function (correctly) detected an error. The error message was ‘{exception.args[0]}’\")\n",
        "except Exception as exception:\n",
        "    raise exception"
      ]
    },
    {
      "cell_type": "markdown",
      "metadata": {
        "jp-MarkdownHeadingCollapsed": true,
        "tags": [],
        "deletable": false,
        "editable": false,
        "id": "jNzDn-m7kHWi"
      },
      "source": [
        "\n",
        "----\n",
        "\n",
        "## Docstrings\n",
        "\n",
        "Did you add a docstring to all the functions you defined? If not, add them now :) A short one-line docstring is enough in this exercise."
      ]
    },
    {
      "cell_type": "markdown",
      "metadata": {
        "deletable": false,
        "editable": false,
        "id": "LtPoX2sDkHWi"
      },
      "source": [
        "You can run the code cell below to check all the docstrings:"
      ]
    },
    {
      "cell_type": "code",
      "execution_count": 68,
      "metadata": {
        "deletable": false,
        "editable": false,
        "colab": {
          "base_uri": "https://localhost:8080/"
        },
        "id": "Obs6ekfbkHWi",
        "outputId": "723dcd59-26f0-4084-962f-1162bafdbf10"
      },
      "outputs": [
        {
          "output_type": "stream",
          "name": "stdout",
          "text": [
            "My functions:\n",
            "\n",
            "- create_point_geometry: \n",
            "  Create a point geometry object.\n",
            "\n",
            "  Args:\n",
            "    x_coord (float): The x-coordinate of the point.\n",
            "    y_coord (float): The y-coordinate of the point.\n",
            "\n",
            "  Returns:\n",
            "    shapely.geometry.Point: A point geometry object.\n",
            "\n",
            "  \n",
            "- create_line_geometry: \n",
            "  Create a line geometry object.\n",
            "\n",
            "  Args:\n",
            "    coordinates (list): A list of shapely.geometry.Point objects.\n",
            "\n",
            "  Returns:\n",
            "    shapely.geometry.LineString: A line geometry object.\n",
            "\n",
            "  \n",
            "- create_polygon_geometry: \n",
            "  Create a polygon geometry object.\n",
            "\n",
            "  Args:\n",
            "    coordinates (list): A list of coordinate tuples or a list of shapely.geometry.Point objects\n",
            "\n",
            "  Returns:\n",
            "    shapely.geometry.Polygon: A polygon geometry object.\n",
            "\n",
            "  \n",
            "- get_centroid: \n",
            "  Get the centroid of a geometry.\n",
            "\n",
            "  Args:\n",
            "    geom (shapely.geometry.base.BaseGeometry): A geometry object.\n",
            "\n",
            "  Returns:\n",
            "    shapely.geometry.Point: The centroid of the geometry.\n",
            "\n",
            "  \n",
            "- get_area: \n",
            "  Get the area of a polygon.\n",
            "\n",
            "  Args:\n",
            "    polygon (shapely.geometry.Polygon): A polygon geometry object.\n",
            "\n",
            "  Returns:\n",
            "    float: The area of the polygon.\n",
            "\n",
            "  \n",
            "- get_length: \n",
            "  Get the length of a geometry.\n",
            "\n",
            "  Args:\n",
            "    geometry (shapely.geometry.LineString or shapely.geometry.Polygon): A geometry object.\n",
            "\n",
            "  Returns:\n",
            "    float: The length of the geometry.\n",
            "\n",
            "  \n"
          ]
        }
      ],
      "source": [
        "# NON-EDITABLE CODE CELL FOR TESTING YOUR SOLUTION\n",
        "\n",
        "# List all functions we created\n",
        "functions = [\n",
        "    create_point_geometry,\n",
        "    create_line_geometry,\n",
        "    create_polygon_geometry,\n",
        "    get_centroid,\n",
        "    get_area,\n",
        "    get_length\n",
        "]\n",
        "\n",
        "print(\"My functions:\\n\")\n",
        "\n",
        "for function in functions:\n",
        "    # print function name and docstring:\n",
        "    print(\"-\", function.__name__ +\":\", function.__doc__)"
      ]
    },
    {
      "cell_type": "markdown",
      "metadata": {
        "deletable": false,
        "editable": false,
        "id": "JR5puE6wkHWi"
      },
      "source": [
        "\n",
        "----\n",
        "\n",
        "Don’t forget to upload your code and edits to your **own** personal GitHub repository for Exercise-1.\n",
        "\n",
        "#### Done!\n",
        "\n",
        "That's it. Now you are ready to continue with Problem 3."
      ]
    }
  ],
  "metadata": {
    "kernelspec": {
      "display_name": "Python 3 (ipykernel)",
      "language": "python",
      "name": "python3"
    },
    "language_info": {
      "codemirror_mode": {
        "name": "ipython",
        "version": 3
      },
      "file_extension": ".py",
      "mimetype": "text/x-python",
      "name": "python",
      "nbconvert_exporter": "python",
      "pygments_lexer": "ipython3",
      "version": "3.10.8"
    },
    "colab": {
      "provenance": []
    }
  },
  "nbformat": 4,
  "nbformat_minor": 0
}