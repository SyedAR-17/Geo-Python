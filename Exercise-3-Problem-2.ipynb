{
  "cells": [
    {
      "cell_type": "markdown",
      "metadata": {
        "deletable": false,
        "editable": false,
        "id": "SSp1m2lHxWvQ"
      },
      "source": [
        "## Problem 2: Create buffers around shopping centers (7 points)\n",
        "\n",
        "Let’s continue with our case study and calculate a 1.5 km buffer around the geocoded points."
      ]
    },
    {
      "cell_type": "markdown",
      "metadata": {
        "deletable": false,
        "editable": false,
        "id": "b8VH90jnxWvc"
      },
      "source": [
        "### a) Load the shopping centre data set (1 point)\n",
        "\n",
        "First, load the shopping centre *point* data set you created in *problem 1* into a `GeoDataFrame` called `shopping_centres`."
      ]
    },
    {
      "cell_type": "code",
      "execution_count": 17,
      "metadata": {
        "id": "aPW6X8U4xWvd",
        "outputId": "00ad028a-893a-4b4c-beaa-391150c1c4ff",
        "colab": {
          "base_uri": "https://localhost:8080/",
          "height": 310
        }
      },
      "outputs": [
        {
          "output_type": "stream",
          "name": "stderr",
          "text": [
            "WARNING:fiona._env:File /content/output has GPKG application_id, but non conformant file extension\n"
          ]
        },
        {
          "output_type": "execute_result",
          "data": {
            "text/plain": [
              "                                             address  id       name  \\\n",
              "0  Kauppakeskus Itis, 1-7, Itäkatu, Itäkeskus, Va...   1       Itis   \n",
              "1  Funky Lady, 14-20, Mannerheimintie, Keskusta, ...   2      Forum   \n",
              "2  11, Piispansilta, Matinkylä, Suur-Matinkylä, E...   3  Iso-omena   \n",
              "3  Life, 3-9, Leppävaarankatu, Ruusutorppa, Etelä...   4      Sello   \n",
              "4  Jumbo, 3, Vantaanportinkatu, Vantaanportti, Pa...   5      Jumbo   \n",
              "\n",
              "                                             addr  \\\n",
              "0            Itäkatu 1-7, 00930 Helsinki, Finland   \n",
              "1  Mannerheimintie 14–20, 00100 Helsinki, Finland   \n",
              "2           Piispansilta 11, 02230 Espoo, Finland   \n",
              "3       Leppävaarankatu 3-9, 02600 Espoo, Finland   \n",
              "4      Vantaanportinkatu 3, 01510 Vantaa, Finland   \n",
              "\n",
              "                           geometry  \n",
              "0  POINT (25504598.602 6677662.109)  \n",
              "1  POINT (25496549.312 6672862.540)  \n",
              "2  POINT (25485554.265 6671954.969)  \n",
              "3  POINT (25489651.383 6678394.318)  \n",
              "4  POINT (25498101.692 6686561.206)  "
            ],
            "text/html": [
              "\n",
              "  <div id=\"df-77b996ba-d014-4e89-a8e8-b42c6fd5393e\" class=\"colab-df-container\">\n",
              "    <div>\n",
              "<style scoped>\n",
              "    .dataframe tbody tr th:only-of-type {\n",
              "        vertical-align: middle;\n",
              "    }\n",
              "\n",
              "    .dataframe tbody tr th {\n",
              "        vertical-align: top;\n",
              "    }\n",
              "\n",
              "    .dataframe thead th {\n",
              "        text-align: right;\n",
              "    }\n",
              "</style>\n",
              "<table border=\"1\" class=\"dataframe\">\n",
              "  <thead>\n",
              "    <tr style=\"text-align: right;\">\n",
              "      <th></th>\n",
              "      <th>address</th>\n",
              "      <th>id</th>\n",
              "      <th>name</th>\n",
              "      <th>addr</th>\n",
              "      <th>geometry</th>\n",
              "    </tr>\n",
              "  </thead>\n",
              "  <tbody>\n",
              "    <tr>\n",
              "      <th>0</th>\n",
              "      <td>Kauppakeskus Itis, 1-7, Itäkatu, Itäkeskus, Va...</td>\n",
              "      <td>1</td>\n",
              "      <td>Itis</td>\n",
              "      <td>Itäkatu 1-7, 00930 Helsinki, Finland</td>\n",
              "      <td>POINT (25504598.602 6677662.109)</td>\n",
              "    </tr>\n",
              "    <tr>\n",
              "      <th>1</th>\n",
              "      <td>Funky Lady, 14-20, Mannerheimintie, Keskusta, ...</td>\n",
              "      <td>2</td>\n",
              "      <td>Forum</td>\n",
              "      <td>Mannerheimintie 14–20, 00100 Helsinki, Finland</td>\n",
              "      <td>POINT (25496549.312 6672862.540)</td>\n",
              "    </tr>\n",
              "    <tr>\n",
              "      <th>2</th>\n",
              "      <td>11, Piispansilta, Matinkylä, Suur-Matinkylä, E...</td>\n",
              "      <td>3</td>\n",
              "      <td>Iso-omena</td>\n",
              "      <td>Piispansilta 11, 02230 Espoo, Finland</td>\n",
              "      <td>POINT (25485554.265 6671954.969)</td>\n",
              "    </tr>\n",
              "    <tr>\n",
              "      <th>3</th>\n",
              "      <td>Life, 3-9, Leppävaarankatu, Ruusutorppa, Etelä...</td>\n",
              "      <td>4</td>\n",
              "      <td>Sello</td>\n",
              "      <td>Leppävaarankatu 3-9, 02600 Espoo, Finland</td>\n",
              "      <td>POINT (25489651.383 6678394.318)</td>\n",
              "    </tr>\n",
              "    <tr>\n",
              "      <th>4</th>\n",
              "      <td>Jumbo, 3, Vantaanportinkatu, Vantaanportti, Pa...</td>\n",
              "      <td>5</td>\n",
              "      <td>Jumbo</td>\n",
              "      <td>Vantaanportinkatu 3, 01510 Vantaa, Finland</td>\n",
              "      <td>POINT (25498101.692 6686561.206)</td>\n",
              "    </tr>\n",
              "  </tbody>\n",
              "</table>\n",
              "</div>\n",
              "    <div class=\"colab-df-buttons\">\n",
              "\n",
              "  <div class=\"colab-df-container\">\n",
              "    <button class=\"colab-df-convert\" onclick=\"convertToInteractive('df-77b996ba-d014-4e89-a8e8-b42c6fd5393e')\"\n",
              "            title=\"Convert this dataframe to an interactive table.\"\n",
              "            style=\"display:none;\">\n",
              "\n",
              "  <svg xmlns=\"http://www.w3.org/2000/svg\" height=\"24px\" viewBox=\"0 -960 960 960\">\n",
              "    <path d=\"M120-120v-720h720v720H120Zm60-500h600v-160H180v160Zm220 220h160v-160H400v160Zm0 220h160v-160H400v160ZM180-400h160v-160H180v160Zm440 0h160v-160H620v160ZM180-180h160v-160H180v160Zm440 0h160v-160H620v160Z\"/>\n",
              "  </svg>\n",
              "    </button>\n",
              "\n",
              "  <style>\n",
              "    .colab-df-container {\n",
              "      display:flex;\n",
              "      gap: 12px;\n",
              "    }\n",
              "\n",
              "    .colab-df-convert {\n",
              "      background-color: #E8F0FE;\n",
              "      border: none;\n",
              "      border-radius: 50%;\n",
              "      cursor: pointer;\n",
              "      display: none;\n",
              "      fill: #1967D2;\n",
              "      height: 32px;\n",
              "      padding: 0 0 0 0;\n",
              "      width: 32px;\n",
              "    }\n",
              "\n",
              "    .colab-df-convert:hover {\n",
              "      background-color: #E2EBFA;\n",
              "      box-shadow: 0px 1px 2px rgba(60, 64, 67, 0.3), 0px 1px 3px 1px rgba(60, 64, 67, 0.15);\n",
              "      fill: #174EA6;\n",
              "    }\n",
              "\n",
              "    .colab-df-buttons div {\n",
              "      margin-bottom: 4px;\n",
              "    }\n",
              "\n",
              "    [theme=dark] .colab-df-convert {\n",
              "      background-color: #3B4455;\n",
              "      fill: #D2E3FC;\n",
              "    }\n",
              "\n",
              "    [theme=dark] .colab-df-convert:hover {\n",
              "      background-color: #434B5C;\n",
              "      box-shadow: 0px 1px 3px 1px rgba(0, 0, 0, 0.15);\n",
              "      filter: drop-shadow(0px 1px 2px rgba(0, 0, 0, 0.3));\n",
              "      fill: #FFFFFF;\n",
              "    }\n",
              "  </style>\n",
              "\n",
              "    <script>\n",
              "      const buttonEl =\n",
              "        document.querySelector('#df-77b996ba-d014-4e89-a8e8-b42c6fd5393e button.colab-df-convert');\n",
              "      buttonEl.style.display =\n",
              "        google.colab.kernel.accessAllowed ? 'block' : 'none';\n",
              "\n",
              "      async function convertToInteractive(key) {\n",
              "        const element = document.querySelector('#df-77b996ba-d014-4e89-a8e8-b42c6fd5393e');\n",
              "        const dataTable =\n",
              "          await google.colab.kernel.invokeFunction('convertToInteractive',\n",
              "                                                    [key], {});\n",
              "        if (!dataTable) return;\n",
              "\n",
              "        const docLinkHtml = 'Like what you see? Visit the ' +\n",
              "          '<a target=\"_blank\" href=https://colab.research.google.com/notebooks/data_table.ipynb>data table notebook</a>'\n",
              "          + ' to learn more about interactive tables.';\n",
              "        element.innerHTML = '';\n",
              "        dataTable['output_type'] = 'display_data';\n",
              "        await google.colab.output.renderOutput(dataTable, element);\n",
              "        const docLink = document.createElement('div');\n",
              "        docLink.innerHTML = docLinkHtml;\n",
              "        element.appendChild(docLink);\n",
              "      }\n",
              "    </script>\n",
              "  </div>\n",
              "\n",
              "\n",
              "<div id=\"df-1fe990a9-a953-41ea-be63-e2979cbd6b4e\">\n",
              "  <button class=\"colab-df-quickchart\" onclick=\"quickchart('df-1fe990a9-a953-41ea-be63-e2979cbd6b4e')\"\n",
              "            title=\"Suggest charts\"\n",
              "            style=\"display:none;\">\n",
              "\n",
              "<svg xmlns=\"http://www.w3.org/2000/svg\" height=\"24px\"viewBox=\"0 0 24 24\"\n",
              "     width=\"24px\">\n",
              "    <g>\n",
              "        <path d=\"M19 3H5c-1.1 0-2 .9-2 2v14c0 1.1.9 2 2 2h14c1.1 0 2-.9 2-2V5c0-1.1-.9-2-2-2zM9 17H7v-7h2v7zm4 0h-2V7h2v10zm4 0h-2v-4h2v4z\"/>\n",
              "    </g>\n",
              "</svg>\n",
              "  </button>\n",
              "\n",
              "<style>\n",
              "  .colab-df-quickchart {\n",
              "      --bg-color: #E8F0FE;\n",
              "      --fill-color: #1967D2;\n",
              "      --hover-bg-color: #E2EBFA;\n",
              "      --hover-fill-color: #174EA6;\n",
              "      --disabled-fill-color: #AAA;\n",
              "      --disabled-bg-color: #DDD;\n",
              "  }\n",
              "\n",
              "  [theme=dark] .colab-df-quickchart {\n",
              "      --bg-color: #3B4455;\n",
              "      --fill-color: #D2E3FC;\n",
              "      --hover-bg-color: #434B5C;\n",
              "      --hover-fill-color: #FFFFFF;\n",
              "      --disabled-bg-color: #3B4455;\n",
              "      --disabled-fill-color: #666;\n",
              "  }\n",
              "\n",
              "  .colab-df-quickchart {\n",
              "    background-color: var(--bg-color);\n",
              "    border: none;\n",
              "    border-radius: 50%;\n",
              "    cursor: pointer;\n",
              "    display: none;\n",
              "    fill: var(--fill-color);\n",
              "    height: 32px;\n",
              "    padding: 0;\n",
              "    width: 32px;\n",
              "  }\n",
              "\n",
              "  .colab-df-quickchart:hover {\n",
              "    background-color: var(--hover-bg-color);\n",
              "    box-shadow: 0 1px 2px rgba(60, 64, 67, 0.3), 0 1px 3px 1px rgba(60, 64, 67, 0.15);\n",
              "    fill: var(--button-hover-fill-color);\n",
              "  }\n",
              "\n",
              "  .colab-df-quickchart-complete:disabled,\n",
              "  .colab-df-quickchart-complete:disabled:hover {\n",
              "    background-color: var(--disabled-bg-color);\n",
              "    fill: var(--disabled-fill-color);\n",
              "    box-shadow: none;\n",
              "  }\n",
              "\n",
              "  .colab-df-spinner {\n",
              "    border: 2px solid var(--fill-color);\n",
              "    border-color: transparent;\n",
              "    border-bottom-color: var(--fill-color);\n",
              "    animation:\n",
              "      spin 1s steps(1) infinite;\n",
              "  }\n",
              "\n",
              "  @keyframes spin {\n",
              "    0% {\n",
              "      border-color: transparent;\n",
              "      border-bottom-color: var(--fill-color);\n",
              "      border-left-color: var(--fill-color);\n",
              "    }\n",
              "    20% {\n",
              "      border-color: transparent;\n",
              "      border-left-color: var(--fill-color);\n",
              "      border-top-color: var(--fill-color);\n",
              "    }\n",
              "    30% {\n",
              "      border-color: transparent;\n",
              "      border-left-color: var(--fill-color);\n",
              "      border-top-color: var(--fill-color);\n",
              "      border-right-color: var(--fill-color);\n",
              "    }\n",
              "    40% {\n",
              "      border-color: transparent;\n",
              "      border-right-color: var(--fill-color);\n",
              "      border-top-color: var(--fill-color);\n",
              "    }\n",
              "    60% {\n",
              "      border-color: transparent;\n",
              "      border-right-color: var(--fill-color);\n",
              "    }\n",
              "    80% {\n",
              "      border-color: transparent;\n",
              "      border-right-color: var(--fill-color);\n",
              "      border-bottom-color: var(--fill-color);\n",
              "    }\n",
              "    90% {\n",
              "      border-color: transparent;\n",
              "      border-bottom-color: var(--fill-color);\n",
              "    }\n",
              "  }\n",
              "</style>\n",
              "\n",
              "  <script>\n",
              "    async function quickchart(key) {\n",
              "      const quickchartButtonEl =\n",
              "        document.querySelector('#' + key + ' button');\n",
              "      quickchartButtonEl.disabled = true;  // To prevent multiple clicks.\n",
              "      quickchartButtonEl.classList.add('colab-df-spinner');\n",
              "      try {\n",
              "        const charts = await google.colab.kernel.invokeFunction(\n",
              "            'suggestCharts', [key], {});\n",
              "      } catch (error) {\n",
              "        console.error('Error during call to suggestCharts:', error);\n",
              "      }\n",
              "      quickchartButtonEl.classList.remove('colab-df-spinner');\n",
              "      quickchartButtonEl.classList.add('colab-df-quickchart-complete');\n",
              "    }\n",
              "    (() => {\n",
              "      let quickchartButtonEl =\n",
              "        document.querySelector('#df-1fe990a9-a953-41ea-be63-e2979cbd6b4e button');\n",
              "      quickchartButtonEl.style.display =\n",
              "        google.colab.kernel.accessAllowed ? 'block' : 'none';\n",
              "    })();\n",
              "  </script>\n",
              "</div>\n",
              "\n",
              "    </div>\n",
              "  </div>\n"
            ],
            "application/vnd.google.colaboratory.intrinsic+json": {
              "type": "dataframe",
              "variable_name": "shopping_centres",
              "summary": "{\n  \"name\": \"shopping_centres\",\n  \"rows\": 7,\n  \"fields\": [\n    {\n      \"column\": \"address\",\n      \"properties\": {\n        \"dtype\": \"string\",\n        \"num_unique_values\": 7,\n        \"samples\": [\n          \"Kauppakeskus Itis, 1-7, It\\u00e4katu, It\\u00e4keskus, Vartiokyl\\u00e4, It\\u00e4inen suurpiiri, Helsinki, Helsingin seutukunta, Uusimaa, Etel\\u00e4-Suomen aluehallintovirasto, Manner-Suomi, 00930, Suomi / Finland\",\n          \"Funky Lady, 14-20, Mannerheimintie, Keskusta, Kluuvi, Etel\\u00e4inen suurpiiri, Helsinki, Helsingin seutukunta, Uusimaa, Etel\\u00e4-Suomen aluehallintovirasto, Manner-Suomi, 00100, Suomi / Finland\",\n          \"BioRex, 5, Hermannin rantatie, Verkkosaari, Kalasatama, S\\u00f6rn\\u00e4inen, Keskinen suurpiiri, Helsinki, Helsingin seutukunta, Uusimaa, Etel\\u00e4-Suomen aluehallintovirasto, Manner-Suomi, 00580, Suomi / Finland\"\n        ],\n        \"semantic_type\": \"\",\n        \"description\": \"\"\n      }\n    },\n    {\n      \"column\": \"id\",\n      \"properties\": {\n        \"dtype\": \"number\",\n        \"std\": 2,\n        \"min\": 1,\n        \"max\": 7,\n        \"num_unique_values\": 7,\n        \"samples\": [\n          1,\n          2,\n          6\n        ],\n        \"semantic_type\": \"\",\n        \"description\": \"\"\n      }\n    },\n    {\n      \"column\": \"name\",\n      \"properties\": {\n        \"dtype\": \"string\",\n        \"num_unique_values\": 7,\n        \"samples\": [\n          \"Itis\",\n          \"Forum\",\n          \"REDI\"\n        ],\n        \"semantic_type\": \"\",\n        \"description\": \"\"\n      }\n    },\n    {\n      \"column\": \"addr\",\n      \"properties\": {\n        \"dtype\": \"string\",\n        \"num_unique_values\": 7,\n        \"samples\": [\n          \"It\\u00e4katu 1-7, 00930 Helsinki, Finland\",\n          \"Mannerheimintie 14\\u201320, 00100 Helsinki, Finland\",\n          \"Hermannin rantatie 5, 00580 Helsinki, Finland\"\n        ],\n        \"semantic_type\": \"\",\n        \"description\": \"\"\n      }\n    },\n    {\n      \"column\": \"geometry\",\n      \"properties\": {\n        \"dtype\": \"geometry\",\n        \"num_unique_values\": 7,\n        \"samples\": [\n          \"POINT (25504598.601623125 6677662.108634275)\",\n          \"POINT (25496549.311635073 6672862.539575441)\",\n          \"POINT (25498764.069915388 6674888.682277734)\"\n        ],\n        \"semantic_type\": \"\",\n        \"description\": \"\"\n      }\n    }\n  ]\n}"
            }
          },
          "metadata": {},
          "execution_count": 17
        }
      ],
      "source": [
        "# ADD YOUR OWN CODE HERE\n",
        "import geopandas\n",
        "shopping_centres = geopandas.read_file(\"/content/output\")\n",
        "shopping_centres.head()"
      ]
    },
    {
      "cell_type": "markdown",
      "metadata": {
        "deletable": false,
        "editable": false,
        "id": "x2pvmIMnxWvf"
      },
      "source": [
        "\n",
        "---\n",
        "\n",
        "### b) Create a *buffer* around the points (5 points)\n",
        "\n",
        "Calculate a 1.5 km buffer for each geocoded point. Overwrite the `geometry` column with the new buffer geometry.\n",
        "\n",
        "Use the [`geopandas.GeoDataFrame.buffer()` method](http://geopandas.org/geometric_manipulations.html#GeoSeries.buffer), that uses shapely’s [`buffer()`](http://toblerity.org/shapely/manual.html#object.buffer) in the background. You only need to care about the `distance` parameter, don’t worry about the possible other arguments."
      ]
    },
    {
      "cell_type": "code",
      "source": [
        "print(shopping_centres.crs)"
      ],
      "metadata": {
        "id": "b9eWp_C8zEu2",
        "outputId": "eadb16df-3502-44f1-8e24-b125b0141af2",
        "colab": {
          "base_uri": "https://localhost:8080/"
        }
      },
      "execution_count": 18,
      "outputs": [
        {
          "output_type": "stream",
          "name": "stdout",
          "text": [
            "EPSG:3879\n"
          ]
        }
      ]
    },
    {
      "cell_type": "code",
      "execution_count": 19,
      "metadata": {
        "id": "f2wAEI4YxWvf",
        "outputId": "e61cd80f-d6dc-408a-c62e-8cbee8736ea7",
        "colab": {
          "base_uri": "https://localhost:8080/"
        }
      },
      "outputs": [
        {
          "output_type": "execute_result",
          "data": {
            "text/plain": [
              "0    POLYGON ((25506098.602 6677662.109, 25506091.3...\n",
              "1    POLYGON ((25498049.312 6672862.540, 25498042.0...\n",
              "2    POLYGON ((25487054.265 6671954.969, 25487047.0...\n",
              "3    POLYGON ((25491151.383 6678394.318, 25491144.1...\n",
              "4    POLYGON ((25499601.692 6686561.206, 25499594.4...\n",
              "dtype: geometry"
            ]
          },
          "metadata": {},
          "execution_count": 19
        }
      ],
      "source": [
        "# ADD YOUR OWN CODE HERE\n",
        "buffers = shopping_centres.buffer(1500)\n",
        "buffers.head()"
      ]
    },
    {
      "cell_type": "code",
      "source": [
        "buffers.plot()"
      ],
      "metadata": {
        "id": "RoU3qJRu0cet",
        "outputId": "bf2a39ab-9a2a-4365-bb45-e57482679ff2",
        "colab": {
          "base_uri": "https://localhost:8080/",
          "height": 480
        }
      },
      "execution_count": 20,
      "outputs": [
        {
          "output_type": "execute_result",
          "data": {
            "text/plain": [
              "<Axes: >"
            ]
          },
          "metadata": {},
          "execution_count": 20
        },
        {
          "output_type": "display_data",
          "data": {
            "text/plain": [
              "<Figure size 640x480 with 1 Axes>"
            ],
            "image/png": "[encoded data removed]"
          },
          "metadata": {}
        }
      ]
    },
    {
      "cell_type": "code",
      "execution_count": null,
      "metadata": {
        "deletable": false,
        "editable": false,
        "id": "8XtfU2WWxWvg"
      },
      "outputs": [],
      "source": [
        "# NON-EDITABLE CODE CELL FOR TESTING YOUR SOLUTION\n",
        "assert shopping_centres.geometry.geom_type.unique() == [\"Polygon\"]"
      ]
    },
    {
      "cell_type": "markdown",
      "metadata": {
        "deletable": false,
        "editable": false,
        "id": "7-ajCItPxWvg"
      },
      "source": [
        "\n",
        "---\n",
        "\n",
        "### d) Save buffer geometry layer (1 point)\n",
        "\n",
        "Save the data frame containing the buffer geometries into a new layer `buffers` inside the same *GeoPackage* `shopping_centres.gpkg`:"
      ]
    },
    {
      "cell_type": "code",
      "execution_count": 23,
      "metadata": {
        "id": "Zxy2OT1MxWvh",
        "outputId": "6cc98a95-4665-460b-f256-715209e66b72",
        "colab": {
          "base_uri": "https://localhost:8080/"
        }
      },
      "outputs": [
        {
          "output_type": "stream",
          "name": "stderr",
          "text": [
            "WARNING:fiona._env:File /content/output has GPKG application_id, but non conformant file extension\n"
          ]
        }
      ],
      "source": [
        "# ADD YOUR OWN CODE HERE\n",
        "buffers.to_file(\"/content/output\", layer=\"buffers\")"
      ]
    }
  ],
  "metadata": {
    "anaconda-cloud": {},
    "kernelspec": {
      "display_name": "Python 3 (ipykernel)",
      "language": "python",
      "name": "python3"
    },
    "language_info": {
      "codemirror_mode": {
        "name": "ipython",
        "version": 3
      },
      "file_extension": ".py",
      "mimetype": "text/x-python",
      "name": "python",
      "nbconvert_exporter": "python",
      "pygments_lexer": "ipython3",
      "version": "3.10.8"
    },
    "colab": {
      "provenance": []
    }
  },
  "nbformat": 4,
  "nbformat_minor": 0
}