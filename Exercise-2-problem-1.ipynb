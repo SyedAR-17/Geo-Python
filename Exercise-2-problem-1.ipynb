{
  "cells": [
    {
      "cell_type": "markdown",
      "metadata": {
        "deletable": false,
        "editable": false,
        "id": "gPm7gyj_L9V0"
      },
      "source": [
        "## Problem 1: Create a polygon from a list of coordinates (5 points)\n",
        "\n",
        "In the first problem, **the aim is to create a polygon based on the provided coordinates, and to plot the polygon in a map.**\n",
        "\n",
        "Two lists, `longitudes` and `latitudes`, contain the input coordinates for the polygon. You need to ‘assemble’ the coordinates to individual tuples of one longitude and one latitude coordinate each (The first coordinate pair looks like this: `(29.99671173095703, 63.748023986816406)`)."
      ]
    },
    {
      "cell_type": "code",
      "execution_count": 43,
      "metadata": {
        "deletable": false,
        "editable": false,
        "id": "e9NKpNLML9V4"
      },
      "outputs": [],
      "source": [
        "# Longitudes in decimal degrees\n",
        "longitudes = [29.99671173095703, 31.58196258544922, 27.738052368164062, 26.50013542175293, 26.652359008789062, 25.921663284301758, 22.90027618408203, 23.257217407226562,\n",
        "           23.335693359375, 22.87444305419922, 23.08465003967285, 22.565473556518555, 21.452774047851562, 21.66388702392578, 21.065969467163086, 21.67659568786621,\n",
        "           21.496871948242188, 22.339998245239258, 22.288192749023438, 24.539581298828125, 25.444232940673828, 25.303749084472656, 24.669166564941406, 24.689163208007812,\n",
        "           24.174999237060547, 23.68471908569336, 24.000761032104492, 23.57332992553711, 23.76513671875, 23.430830001831055, 23.6597900390625, 20.580928802490234, 21.320831298828125,\n",
        "           22.398330688476562, 23.97638702392578, 24.934917449951172, 25.7611083984375, 25.95930290222168, 26.476804733276367, 27.91069221496582, 29.1027774810791, 29.29846954345703,\n",
        "           28.4355525970459, 28.817358016967773, 28.459857940673828, 30.028610229492188, 29.075136184692383, 30.13492774963379, 29.818885803222656, 29.640830993652344, 30.57735824584961,\n",
        "           29.99671173095703]\n",
        "\n",
        "# Latitudes in decimal degrees\n",
        "latitudes = [63.748023986816406, 62.90789794921875, 60.511383056640625, 60.44499588012695, 60.646385192871094, 60.243743896484375, 59.806800842285156, 59.91944122314453,\n",
        "           60.02395248413086, 60.14555358886719, 60.3452033996582, 60.211936950683594, 60.56249237060547, 61.54027557373047, 62.59798049926758, 63.02013397216797,\n",
        "           63.20353698730469, 63.27652359008789, 63.525691986083984, 64.79915618896484, 64.9533920288086, 65.51513671875, 65.65470886230469, 65.89610290527344, 65.79151916503906,\n",
        "           66.26332092285156, 66.80228424072266, 67.1570053100586, 67.4168701171875, 67.47978210449219, 67.94589233398438, 69.060302734375, 69.32611083984375, 68.71110534667969,\n",
        "           68.83248901367188, 68.580810546875, 68.98916625976562, 69.68568420410156, 69.9363784790039, 70.08860778808594, 69.70597076416016, 69.48533630371094, 68.90263366699219,\n",
        "           68.84700012207031, 68.53485107421875, 67.69471740722656, 66.90360260009766, 65.70887756347656, 65.6533203125, 64.92096710205078, 64.22373962402344, 63.748023986816406]"
      ]
    },
    {
      "cell_type": "markdown",
      "metadata": {
        "deletable": false,
        "editable": false,
        "jp-MarkdownHeadingCollapsed": true,
        "tags": [],
        "id": "81hj1ISKL9V6"
      },
      "source": [
        "### a) Create a `shapely.geometry.Polygon` geometry `polygon` based on the coordinates\n",
        "\n",
        "- Create a list of coordinate pairs based on the provided longitudes and latitudes and store the list in a variable `coordinate_pairs`. A coordinate pair can be either a tuple or a list.\n",
        "- Create a `shapely.geometry.Polygon` using the `coordinate_pairs`. Store the polygon in a variable `polygon`."
      ]
    },
    {
      "cell_type": "code",
      "execution_count": 44,
      "metadata": {
        "jupyter": {
          "outputs_hidden": false
        },
        "id": "wY4ThiiRL9V7",
        "outputId": "a382dfdd-07b2-4a2e-dc4b-5de822b55f7b",
        "colab": {
          "base_uri": "https://localhost:8080/"
        }
      },
      "outputs": [
        {
          "output_type": "stream",
          "name": "stdout",
          "text": [
            "[(63.748023986816406, 29.99671173095703), (62.90789794921875, 31.58196258544922), (60.511383056640625, 27.738052368164062), (60.44499588012695, 26.50013542175293), (60.646385192871094, 26.652359008789062)]\n"
          ]
        }
      ],
      "source": [
        "# ADD YOUR OWN CODE HERE\n",
        "from shapely.geometry import Polygon\n",
        "\n",
        "coordinate_pairs = []\n",
        "\n",
        "def coordinates (lat, long):\n",
        "  for i in range(len(lat)):\n",
        "    coordinate_pairs.append(tuple((lat[i], long[i])))\n",
        "\n",
        "coordinates(latitudes,longitudes)\n",
        "\n",
        "print(coordinate_pairs[:5])"
      ]
    },
    {
      "cell_type": "code",
      "source": [
        "polygon = Polygon(coordinate_pairs)"
      ],
      "metadata": {
        "id": "gKgbURuzP9FD"
      },
      "execution_count": 45,
      "outputs": []
    },
    {
      "cell_type": "code",
      "source": [
        "polygon"
      ],
      "metadata": {
        "id": "2I-w70rrQDfK",
        "outputId": "0cfb5fd7-9426-468f-d038-5b20398f9bb0",
        "colab": {
          "base_uri": "https://localhost:8080/",
          "height": 121
        }
      },
      "execution_count": 46,
      "outputs": [
        {
          "output_type": "execute_result",
          "data": {
            "text/plain": [
              "<POLYGON ((63.748 29.997, 62.908 31.582, 60.511 27.738, 60.445 26.5, 60.646 ...>"
            ],
            "image/svg+xml": "<svg xmlns=\"http://www.w3.org/2000/svg\" xmlns:xlink=\"http://www.w3.org/1999/xlink\" width=\"100.0\" height=\"100.0\" viewBox=\"59.3667594909668 20.140887451171874 11.161889648437494 11.881116485595701\" preserveAspectRatio=\"xMinYMin meet\"><g transform=\"matrix(1,0,0,-1,0,52.16289138793945)\"><path fill-rule=\"evenodd\" fill=\"#66cc99\" stroke=\"#555555\" stroke-width=\"0.23762232971191402\" opacity=\"0.6\" d=\"M 63.748023986816406,29.99671173095703 L 62.90789794921875,31.58196258544922 L 60.511383056640625,27.738052368164062 L 60.44499588012695,26.50013542175293 L 60.646385192871094,26.652359008789062 L 60.243743896484375,25.921663284301758 L 59.806800842285156,22.90027618408203 L 59.91944122314453,23.257217407226562 L 60.02395248413086,23.335693359375 L 60.14555358886719,22.87444305419922 L 60.3452033996582,23.08465003967285 L 60.211936950683594,22.565473556518555 L 60.56249237060547,21.452774047851562 L 61.54027557373047,21.66388702392578 L 62.59798049926758,21.065969467163086 L 63.02013397216797,21.67659568786621 L 63.20353698730469,21.496871948242188 L 63.27652359008789,22.339998245239258 L 63.525691986083984,22.288192749023438 L 64.79915618896484,24.539581298828125 L 64.9533920288086,25.444232940673828 L 65.51513671875,25.303749084472656 L 65.65470886230469,24.669166564941406 L 65.89610290527344,24.689163208007812 L 65.79151916503906,24.174999237060547 L 66.26332092285156,23.68471908569336 L 66.80228424072266,24.000761032104492 L 67.1570053100586,23.57332992553711 L 67.4168701171875,23.76513671875 L 67.47978210449219,23.430830001831055 L 67.94589233398438,23.6597900390625 L 69.060302734375,20.580928802490234 L 69.32611083984375,21.320831298828125 L 68.71110534667969,22.398330688476562 L 68.83248901367188,23.97638702392578 L 68.580810546875,24.934917449951172 L 68.98916625976562,25.7611083984375 L 69.68568420410156,25.95930290222168 L 69.9363784790039,26.476804733276367 L 70.08860778808594,27.91069221496582 L 69.70597076416016,29.1027774810791 L 69.48533630371094,29.29846954345703 L 68.90263366699219,28.4355525970459 L 68.84700012207031,28.817358016967773 L 68.53485107421875,28.459857940673828 L 67.69471740722656,30.028610229492188 L 66.90360260009766,29.075136184692383 L 65.70887756347656,30.13492774963379 L 65.6533203125,29.818885803222656 L 64.92096710205078,29.640830993652344 L 64.22373962402344,30.57735824584961 L 63.748023986816406,29.99671173095703 z\" /></g></svg>"
          },
          "metadata": {},
          "execution_count": 46
        }
      ]
    },
    {
      "cell_type": "code",
      "execution_count": 47,
      "metadata": {
        "deletable": false,
        "editable": false,
        "id": "vsUcOMXIL9V7",
        "outputId": "0c99a2b1-7e02-4f7d-c069-8337ae448c7b",
        "colab": {
          "base_uri": "https://localhost:8080/"
        }
      },
      "outputs": [
        {
          "output_type": "stream",
          "name": "stdout",
          "text": [
            "(63.748023986816406, 29.99671173095703)\n"
          ]
        }
      ],
      "source": [
        "# NON-EDITABLE CODE CELL FOR TESTING YOUR SOLUTION\n",
        "\n",
        "# Check the first coordinate pair. Shoud be: (29.99671173095703, 63.748023986816406)\n",
        "print(coordinate_pairs[0])"
      ]
    },
    {
      "cell_type": "code",
      "execution_count": 48,
      "metadata": {
        "deletable": false,
        "editable": false,
        "id": "BU5-yU1ZL9V8",
        "outputId": "b09d456d-a180-49f8-e600-700c3cf55813",
        "colab": {
          "base_uri": "https://localhost:8080/"
        }
      },
      "outputs": [
        {
          "output_type": "stream",
          "name": "stdout",
          "text": [
            "Polygon\n"
          ]
        }
      ],
      "source": [
        "# NON-EDITABLE CODE CELL FOR TESTING YOUR SOLUTION\n",
        "\n",
        "# Check the data type of your polygon:\n",
        "print(polygon.geom_type)"
      ]
    },
    {
      "cell_type": "markdown",
      "metadata": {
        "deletable": false,
        "editable": false,
        "jp-MarkdownHeadingCollapsed": true,
        "tags": [],
        "id": "D31iTW8cL9V8"
      },
      "source": [
        "### b) Insert the polygon into a newly created `geopandas.GeoDataFrame` called `geo`\n",
        "\n",
        "(see the hints for this exercise for more different approaches to complete this task)\n",
        "\n",
        "Be sure to define a coordinate reference system for the data (the coordinates are in WGS84 format)"
      ]
    },
    {
      "cell_type": "code",
      "source": [
        "import geopandas\n",
        "geo = geopandas.GeoDataFrame(crs=\"EPSG:4326\", geometry=[polygon])"
      ],
      "metadata": {
        "id": "tyfXyUC1b2Du"
      },
      "execution_count": 62,
      "outputs": []
    },
    {
      "cell_type": "code",
      "source": [
        "print(geo)"
      ],
      "metadata": {
        "id": "i7PyR3PQb6Pp",
        "outputId": "d363fd92-ee78-42c8-aa1e-26332125e876",
        "colab": {
          "base_uri": "https://localhost:8080/"
        }
      },
      "execution_count": 63,
      "outputs": [
        {
          "output_type": "stream",
          "name": "stdout",
          "text": [
            "                                            geometry\n",
            "0  POLYGON ((63.74802 29.99671, 62.90790 31.58196...\n"
          ]
        }
      ]
    },
    {
      "cell_type": "code",
      "source": [
        "geo.plot()"
      ],
      "metadata": {
        "id": "c6GupN4FcsRx",
        "outputId": "318b297e-36ff-4e05-fe29-a5c90243e5fc",
        "colab": {
          "base_uri": "https://localhost:8080/",
          "height": 448
        }
      },
      "execution_count": 64,
      "outputs": [
        {
          "output_type": "execute_result",
          "data": {
            "text/plain": [
              "<Axes: >"
            ]
          },
          "metadata": {},
          "execution_count": 64
        },
        {
          "output_type": "display_data",
          "data": {
            "text/plain": [
              "<Figure size 640x480 with 1 Axes>"
            ],
            "image/png": "[encoded data removed]"
          },
          "metadata": {}
        }
      ]
    },
    {
      "cell_type": "code",
      "source": [
        "print(geo[\"geometry\"].geom_type)"
      ],
      "metadata": {
        "id": "rEUxEN08XAbt",
        "outputId": "a860d28e-215e-4f5d-c0f9-ae9a4e9ada70",
        "colab": {
          "base_uri": "https://localhost:8080/"
        }
      },
      "execution_count": 65,
      "outputs": [
        {
          "output_type": "stream",
          "name": "stdout",
          "text": [
            "0    Polygon\n",
            "dtype: object\n"
          ]
        }
      ]
    },
    {
      "cell_type": "code",
      "source": [
        "geo[\"geometry\"].crs = \"EPSG:4326\""
      ],
      "metadata": {
        "id": "qXZwJAGTXaam"
      },
      "execution_count": 66,
      "outputs": []
    },
    {
      "cell_type": "code",
      "execution_count": 67,
      "metadata": {
        "deletable": false,
        "editable": false,
        "id": "qt38MYpOL9V9",
        "outputId": "a9722cf0-19c2-4d45-d9f2-7450aa3a2f9b",
        "colab": {
          "base_uri": "https://localhost:8080/"
        }
      },
      "outputs": [
        {
          "output_type": "stream",
          "name": "stdout",
          "text": [
            "                                            geometry\n",
            "0  POLYGON ((63.74802 29.99671, 62.90790 31.58196...\n"
          ]
        }
      ],
      "source": [
        "# NON-EDITABLE CODE CELL FOR TESTING YOUR SOLUTION\n",
        "\n",
        "# Check the content of the GeoDataFrame:\n",
        "print(geo.head())"
      ]
    },
    {
      "cell_type": "code",
      "execution_count": 68,
      "metadata": {
        "deletable": false,
        "editable": false,
        "jupyter": {
          "outputs_hidden": false
        },
        "id": "nV-m5iOYL9V9",
        "outputId": "f4a70667-e811-4113-c096-920dcf6b2b10",
        "colab": {
          "base_uri": "https://localhost:8080/"
        }
      },
      "outputs": [
        {
          "output_type": "stream",
          "name": "stdout",
          "text": [
            "1\n"
          ]
        }
      ],
      "source": [
        "# NON-EDITABLE CODE CELL FOR TESTING YOUR SOLUTION\n",
        "\n",
        "# Check the number of rows:\n",
        "print(len(geo))"
      ]
    },
    {
      "cell_type": "markdown",
      "metadata": {
        "deletable": false,
        "editable": false,
        "jp-MarkdownHeadingCollapsed": true,
        "tags": [],
        "id": "vJKtYrOBL9V-"
      },
      "source": [
        "### c) Plot the data set\n",
        "\n",
        "Which shape do you see? *Add a comment to the pull request to answer!*"
      ]
    },
    {
      "cell_type": "code",
      "execution_count": 69,
      "metadata": {
        "jupyter": {
          "outputs_hidden": false
        },
        "id": "myIU4vEnL9V-",
        "outputId": "ff030952-6a82-462c-a797-cbde7ebddb00",
        "colab": {
          "base_uri": "https://localhost:8080/",
          "height": 448
        }
      },
      "outputs": [
        {
          "output_type": "execute_result",
          "data": {
            "text/plain": [
              "<Axes: >"
            ]
          },
          "metadata": {},
          "execution_count": 69
        },
        {
          "output_type": "display_data",
          "data": {
            "text/plain": [
              "<Figure size 640x480 with 1 Axes>"
            ],
            "image/png": "[encoded data removed]"
          },
          "metadata": {}
        }
      ],
      "source": [
        "# ADD YOUR OWN CODE HERE\n",
        "geo.plot()"
      ]
    },
    {
      "cell_type": "markdown",
      "metadata": {
        "deletable": false,
        "editable": false,
        "jp-MarkdownHeadingCollapsed": true,
        "tags": [],
        "id": "SeI29iMkL9V-"
      },
      "source": [
        "### d) Save the `GeoDataFrame` to a file\n",
        "\n",
        "Save the file in GeoPackage format, save it inside the `data` directory, and name it `mysterious-polygon.gpkg`."
      ]
    },
    {
      "cell_type": "code",
      "execution_count": null,
      "metadata": {
        "id": "u82d95ZpL9V-"
      },
      "outputs": [],
      "source": [
        "# ADD YOUR OWN CODE HERE\n",
        "# Define the file path\n",
        "# file_path = os.path.join('data', 'mysterious-polygon.gpkg')\n",
        "\n",
        "# # Save the GeoDataFrame to a GeoPackage file\n",
        "# geo.to_file(file_path, driver='GPKG')"
      ]
    },
    {
      "cell_type": "code",
      "execution_count": null,
      "metadata": {
        "deletable": false,
        "editable": false,
        "jupyter": {
          "outputs_hidden": false
        },
        "id": "BXzDgPR9L9V-"
      },
      "outputs": [],
      "source": [
        "# NON-EDITABLE CODE CELL FOR TESTING YOUR SOLUTION\n",
        "\n",
        "# Check if output file exists\n",
        "import pathlib\n",
        "DATA_DIRECTORY = pathlib.Path().resolve() / \"data\"\n",
        "assert (DATA_DIRECTORY / \"mysterious-polygon.gpkg\").exists()"
      ]
    },
    {
      "cell_type": "markdown",
      "metadata": {
        "deletable": false,
        "editable": false,
        "id": "2L2Q9ha7L9V_"
      },
      "source": [
        "\n",
        "\n",
        "---\n",
        "\n",
        "### Well done!\n",
        "\n",
        "You can continue with [Exercise-2 Problem 2](Exercise-2-problem-2.ipynb)"
      ]
    }
  ],
  "metadata": {
    "anaconda-cloud": {},
    "kernelspec": {
      "display_name": "Python 3 (ipykernel)",
      "language": "python",
      "name": "python3"
    },
    "language_info": {
      "codemirror_mode": {
        "name": "ipython",
        "version": 3
      },
      "file_extension": ".py",
      "mimetype": "text/x-python",
      "name": "python",
      "nbconvert_exporter": "python",
      "pygments_lexer": "ipython3",
      "version": "3.10.8"
    },
    "colab": {
      "provenance": []
    }
  },
  "nbformat": 4,
  "nbformat_minor": 0
}